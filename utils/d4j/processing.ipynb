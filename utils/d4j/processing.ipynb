{
 "cells": [
  {
   "cell_type": "code",
   "execution_count": 2,
   "metadata": {},
   "outputs": [],
   "source": [
    "import os\n",
    "import json"
   ]
  },
  {
   "cell_type": "code",
   "execution_count": 4,
   "metadata": {},
   "outputs": [],
   "source": [
    "file = '../../autofl/data/defects4j' \n",
    "script = ''\n",
    "for file in sorted(os.listdir(file)):\n",
    "    project, index = tuple(file.split('_'))\n",
    "    index = int(index)\n",
    "    script += f'cd /tmp/buggy_{project}_{index}\\n'\n",
    "    script += f'defects4j export -p \"dir.src.classes\" -o /src_dir/{project}_{index}.txt\\n'\n",
    "with open('d4j_src_dir.sh', 'w') as f:\n",
    "    f.write(script)"
   ]
  },
  {
   "cell_type": "code",
   "execution_count": null,
   "metadata": {},
   "outputs": [],
   "source": [
    "file = '../../autofl/data/defects4j' \n",
    "script = ''\n",
    "for file in sorted(os.listdir(file)):\n",
    "    project, index = tuple(file.split('_'))\n",
    "    index = int(index)\n",
    "    src_dir = \"source\" if project == 'Chart' else \"src\"\n",
    "    if (project == 'Lang' and index >= 49 and index <= 65) or (project == 'Math' and index >= 85 and index <= 106):\n",
    "        src_dir += '/java'\n",
    "    elif project in ['Lang', 'Math', 'Time']:\n",
    "        src_dir += '/main'\n",
    "    script += f'python3 count_methods.py /tmp/buggy_{project}_{index}/{src_dir} -o methods/{project}_{index}.txt\\n'\n",
    "with open('d4j_methods.sh', 'w') as f:\n",
    "    f.write(script)"
   ]
  },
  {
   "cell_type": "code",
   "execution_count": 6,
   "metadata": {},
   "outputs": [],
   "source": [
    "dir = './src_dir' \n",
    "script = ''\n",
    "for file in sorted(os.listdir(dir)):\n",
    "    with open(os.path.join(dir, file)) as f:\n",
    "        source_dir = f.read().strip()\n",
    "    project, index = tuple(file.replace('.txt', '').split('_'))\n",
    "    index = int(index)\n",
    "    \n",
    "    script += f'cloc /tmp/buggy_{project}_{index}/{source_dir} --csv > loc/{project}_{index}.csv\\n'\n",
    "with open('d4j_cloc.sh', 'w') as f:\n",
    "    f.write(script)"
   ]
  },
  {
   "cell_type": "markdown",
   "metadata": {},
   "source": [
    "# LOC"
   ]
  },
  {
   "cell_type": "code",
   "execution_count": 9,
   "metadata": {},
   "outputs": [
    {
     "name": "stdout",
     "output_type": "stream",
     "text": [
      "Chart\t78564--96382\n",
      "Closure\t58989--104131\n",
      "Lang\t16593--21810\n",
      "Math\t9471--84317\n",
      "Time\t26589--27795\n"
     ]
    }
   ],
   "source": [
    "src_dir = 'loc'\n",
    "projects = dict()\n",
    "for file in sorted(os.listdir(src_dir)):\n",
    "    project, index = tuple(file.replace('.csv', '').split('_'))\n",
    "    if project not in projects:\n",
    "        projects[project] = list()\n",
    "    with open(os.path.join(src_dir, file)) as f:\n",
    "        lines = f.readlines()\n",
    "    line = [line for line in lines if ',Java,' in line]\n",
    "    if len(line) == 1:\n",
    "        projects[project].append(int(line[0].split(',')[-1]))\n",
    "\n",
    "for key, value in projects.items():\n",
    "    print(f'{key}\\t{min(value)}--{max(value)}')"
   ]
  },
  {
   "cell_type": "markdown",
   "metadata": {},
   "source": [
    "# Methods"
   ]
  },
  {
   "cell_type": "code",
   "execution_count": 28,
   "metadata": {},
   "outputs": [
    {
     "name": "stdout",
     "output_type": "stream",
     "text": [
      "Chart\t6378--8041\n",
      "Closure\t4621--8700\n",
      "Lang\t1794--2248\n",
      "Math\t1174--6015\n",
      "Time\t3535--3696\n"
     ]
    }
   ],
   "source": [
    "src_dir = 'methods'\n",
    "projects = dict()\n",
    "for file in sorted(os.listdir(src_dir)):\n",
    "    project, index = tuple(file.replace('.txt', '').split('_'))\n",
    "    if project not in projects:\n",
    "        projects[project] = list()\n",
    "    with open(os.path.join(src_dir, file)) as f:\n",
    "        line = f.readlines()[0]\n",
    "    if not int(line.split(':')[-1].strip()):\n",
    "        print(project, index)\n",
    "    projects[project].append(int(line.split(':')[-1].strip()))\n",
    "\n",
    "for key, value in projects.items():\n",
    "    print(f'{key}\\t{min(value)}--{max(value)}')"
   ]
  },
  {
   "cell_type": "markdown",
   "metadata": {},
   "source": [
    "# Tests"
   ]
  },
  {
   "cell_type": "code",
   "execution_count": 29,
   "metadata": {},
   "outputs": [
    {
     "name": "stdout",
     "output_type": "stream",
     "text": [
      "Chart\t1598--2201\n",
      "Closure\t2692--8625\n",
      "Lang\t1587--2265\n",
      "Math\t686--3548\n",
      "Time\t3802--4054\n"
     ]
    }
   ],
   "source": [
    "src_dir = 'defects4j_original'\n",
    "projects = dict()\n",
    "for file in sorted(os.listdir(src_dir)):\n",
    "    if not os.path.isdir(os.path.join(src_dir, file)):\n",
    "        continue\n",
    "    project, index = tuple(file.split('_'))\n",
    "    if project not in projects:\n",
    "        projects[project] = list()\n",
    "    file = os.path.join(src_dir, file, 'test_snippet.json')\n",
    "    with open(file) as f:\n",
    "        lines = f.readlines()\n",
    "    projects[project].append(len([0 for line in lines if '\"signature\"' in line and '.test' in line]))\n",
    "\n",
    "for key, value in projects.items():\n",
    "    print(f'{key}\\t{min(value)}--{max(value)}')"
   ]
  }
 ],
 "metadata": {
  "kernelspec": {
   "display_name": "openllms",
   "language": "python",
   "name": "python3"
  },
  "language_info": {
   "codemirror_mode": {
    "name": "ipython",
    "version": 3
   },
   "file_extension": ".py",
   "mimetype": "text/x-python",
   "name": "python",
   "nbconvert_exporter": "python",
   "pygments_lexer": "ipython3",
   "version": "3.9.19"
  }
 },
 "nbformat": 4,
 "nbformat_minor": 2
}
